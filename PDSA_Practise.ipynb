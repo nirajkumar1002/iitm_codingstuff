{
  "nbformat": 4,
  "nbformat_minor": 0,
  "metadata": {
    "colab": {
      "name": "PDSA_Practise.ipynb",
      "provenance": [],
      "authorship_tag": "ABX9TyNrhGrl63rqN/P2uB/qBcAJ",
      "include_colab_link": true
    },
    "kernelspec": {
      "name": "python3",
      "display_name": "Python 3"
    },
    "language_info": {
      "name": "python"
    }
  },
  "cells": [
    {
      "cell_type": "markdown",
      "metadata": {
        "id": "view-in-github",
        "colab_type": "text"
      },
      "source": [
        "<a href=\"https://colab.research.google.com/github/nirajkumar1002/iitm_codingstuff/blob/main/PDSA_Practise.ipynb\" target=\"_parent\"><img src=\"https://colab.research.google.com/assets/colab-badge.svg\" alt=\"Open In Colab\"/></a>"
      ]
    },
    {
      "cell_type": "markdown",
      "source": [
        "Week 1:"
      ],
      "metadata": {
        "id": "XhV4MJmOmuUU"
      }
    },
    {
      "cell_type": "markdown",
      "source": [
        "#PPA1"
      ],
      "metadata": {
        "id": "BObGKDoJeOZ5"
      }
    },
    {
      "cell_type": "code",
      "execution_count": null,
      "metadata": {
        "id": "pT-TAK4-d3CD"
      },
      "outputs": [],
      "source": [
        "def Twin_Primes(n, m):\n",
        "    t=()\n",
        "    l=[]\n",
        "    r=[]\n",
        "    rem = True\n",
        "    for i in range(n, m+1):\n",
        "      for k in range(2,i):\n",
        "        if i % k == 0:\n",
        "          rem = False\n",
        "        if rem == True:\n",
        "          r.append(i)\n",
        "        #    x= i % k\n",
        "        #     rem.append()\n",
        "        # if rem != 0:\n",
        "        #   r.append(i)\n",
        "    print(r)\n",
        "    # for j in r:\n",
        "    #     if (int(j+1) - int(j)) == 2:\n",
        "    #         l.append((j+1,j))\n",
        "    # return(l)\n",
        "n=int(input())\n",
        "m=int(input())\n",
        "# print(sorted(Twin_Primes(n, m)))\n",
        "\n"
      ]
    },
    {
      "cell_type": "code",
      "source": [
        "def prime_no(n):\n",
        "  result = True\n",
        "  for i in range(2,n):\n",
        "    if n % i==0:\n",
        "      result = False\n",
        "  return(result)\n",
        "\n",
        "n = int(input())\n",
        "print(prime_no(n))"
      ],
      "metadata": {
        "id": "ThHtCOji_PQv"
      },
      "execution_count": null,
      "outputs": []
    },
    {
      "cell_type": "code",
      "source": [
        "n=int(input())\n",
        "m=int(input())\n",
        "result = True\n",
        "prm = [] #list of prime numbers\n",
        "for i in range(n, m+1):\n",
        "  for j in range(2, i):\n",
        "    if i % j == 0:\n",
        "      result = False\n",
        "      break\n",
        "  if result:\n",
        "   prm = prm + [i]   \n",
        "print(\"list of prime numbers: \",prm)\n"
      ],
      "metadata": {
        "id": "N-QPiJQ-LHTm"
      },
      "execution_count": null,
      "outputs": []
    },
    {
      "cell_type": "markdown",
      "source": [
        "##GAw1\n"
      ],
      "metadata": {
        "id": "2EQH6FTkaEww"
      }
    },
    {
      "cell_type": "code",
      "source": [
        "# s='sameerkumar'\n",
        "# print(s[:1])\n",
        "\n",
        "# for i in range(len(s)):\n",
        "#   #print(i)\n",
        "#   print(\"*\",s[:i])\n",
        "\n",
        "\n",
        "\n",
        "def fun(s):\n",
        "  p =0\n",
        "  s.lower()\n",
        "  for i in range(len(s)):\n",
        "    \n",
        "    if s[i] not in s[:i]:\n",
        "      print(s[i], s[:i])\n",
        "      p +=1\n",
        "      #print(p)\n",
        "  return p\n",
        "\n",
        "\n",
        "print(fun('knirajnk'))"
      ],
      "metadata": {
        "colab": {
          "base_uri": "https://localhost:8080/"
        },
        "id": "mmMW9mJSaKoC",
        "outputId": "b7749d83-c953-47eb-8979-26970d87515a"
      },
      "execution_count": null,
      "outputs": [
        {
          "output_type": "stream",
          "name": "stdout",
          "text": [
            "0\n",
            "k \n",
            "1\n",
            "n k\n",
            "2\n",
            "i kn\n",
            "3\n",
            "r kni\n",
            "4\n",
            "a knir\n",
            "5\n",
            "j knira\n",
            "6\n",
            "7\n",
            "6\n"
          ]
        }
      ]
    },
    {
      "cell_type": "code",
      "source": [
        "n=5\n",
        "for i in range(n):\n",
        "  print(i)"
      ],
      "metadata": {
        "colab": {
          "base_uri": "https://localhost:8080/"
        },
        "id": "7HDuLkCyhyX_",
        "outputId": "6e8cb545-361c-4c45-c774-fbb043c9a0be"
      },
      "execution_count": null,
      "outputs": [
        {
          "output_type": "stream",
          "name": "stdout",
          "text": [
            "0\n",
            "1\n",
            "2\n",
            "3\n",
            "4\n"
          ]
        }
      ]
    },
    {
      "cell_type": "code",
      "source": [
        "n = 60\n",
        "for i in range(2, n):\n",
        "  if n % i == 0:\n",
        "    print(i)"
      ],
      "metadata": {
        "colab": {
          "base_uri": "https://localhost:8080/"
        },
        "id": "D9NdGUYJe5Pj",
        "outputId": "2ae7e789-5434-4020-b2ee-e9442d7f705e"
      },
      "execution_count": null,
      "outputs": [
        {
          "output_type": "stream",
          "name": "stdout",
          "text": [
            "2\n",
            "3\n",
            "4\n",
            "5\n",
            "6\n",
            "10\n",
            "12\n",
            "15\n",
            "20\n",
            "30\n"
          ]
        }
      ]
    },
    {
      "cell_type": "code",
      "source": [
        "x= 1\n",
        "while True:\n",
        "  if x % 5 == 0:\n",
        "    break\n",
        "  print(x, end=' ')\n",
        "  x += 1"
      ],
      "metadata": {
        "colab": {
          "base_uri": "https://localhost:8080/"
        },
        "id": "6sk8C3w7sG1e",
        "outputId": "849fffa7-91b4-4be4-f32d-e11111272446"
      },
      "execution_count": null,
      "outputs": [
        {
          "output_type": "stream",
          "name": "stdout",
          "text": [
            "1 2 3 4 "
          ]
        }
      ]
    },
    {
      "cell_type": "markdown",
      "source": [
        "a =[1,2,3]\n",
        "try:\n",
        "  print(\"Second element = %d\" %(a[1]))\n",
        "  print(\"Forth element = %d\" %(a[3]))\n",
        "except:\n",
        "  print(\"an error occured\")"
      ],
      "metadata": {
        "id": "o2o3fzg2tnuX"
      }
    },
    {
      "cell_type": "code",
      "source": [
        "s=[2,3,1]\n",
        "s.pop(1)\n"
      ],
      "metadata": {
        "colab": {
          "base_uri": "https://localhost:8080/"
        },
        "id": "zl7egWys5mTC",
        "outputId": "e0bab0d8-eb1e-40cf-e59c-a2c6574859ca"
      },
      "execution_count": null,
      "outputs": [
        {
          "output_type": "execute_result",
          "data": {
            "text/plain": [
              "3"
            ]
          },
          "metadata": {},
          "execution_count": 53
        }
      ]
    },
    {
      "cell_type": "code",
      "source": [
        "s=[2,3,1]\n",
        "s.pop(1)\n",
        "print(s)"
      ],
      "metadata": {
        "colab": {
          "base_uri": "https://localhost:8080/"
        },
        "id": "b17jCl5Q6WTx",
        "outputId": "be3aaa7b-451f-42bf-c0df-c91358cd75d9"
      },
      "execution_count": null,
      "outputs": [
        {
          "output_type": "stream",
          "name": "stdout",
          "text": [
            "[2, 1]\n"
          ]
        }
      ]
    },
    {
      "cell_type": "markdown",
      "source": [
        "#week 2"
      ],
      "metadata": {
        "id": "k8IDGMYNm0am"
      }
    },
    {
      "cell_type": "markdown",
      "source": [
        "Q1. **Naive approach:** Search an element in a given list. "
      ],
      "metadata": {
        "id": "mjx2WOLTrcbu"
      }
    },
    {
      "cell_type": "code",
      "source": [
        "import random\n",
        "def naivesearch(n, list):\n",
        "  for i in list:\n",
        "    if i == n:\n",
        "      print(\"index number of desired element is: \", list.index(i))\n",
        "      return True\n",
        "      \n",
        "  return False\n",
        "\n",
        "\n",
        "l = random.sample(range(1, 1000), 100)\n",
        "print(l)\n",
        "a = int(input(\"Enter an element to search: \"))\n",
        "print(naivesearch(a, l))\n"
      ],
      "metadata": {
        "colab": {
          "base_uri": "https://localhost:8080/"
        },
        "id": "sdTe60q4m3lz",
        "outputId": "1f8cfbea-ca84-42d0-e31c-28547598dad4"
      },
      "execution_count": null,
      "outputs": [
        {
          "output_type": "stream",
          "name": "stdout",
          "text": [
            "[766, 288, 411, 315, 858, 461, 499, 780, 923, 116, 952, 50, 229, 587, 713, 322, 458, 538, 332, 629, 263, 58, 815, 28, 508, 124, 754, 910, 626, 970, 239, 307, 492, 798, 43, 291, 526, 789, 756, 70, 106, 547, 216, 278, 236, 181, 552, 532, 450, 306, 613, 318, 123, 130, 847, 666, 373, 175, 898, 571, 924, 248, 664, 997, 665, 51, 484, 583, 396, 474, 200, 874, 193, 926, 600, 232, 190, 801, 839, 204, 165, 677, 823, 429, 274, 498, 46, 901, 765, 362, 159, 141, 23, 169, 451, 843, 723, 9, 206, 938]\n",
            "enter an element to search: 6\n",
            "False\n"
          ]
        }
      ]
    },
    {
      "cell_type": "markdown",
      "source": [
        ":Q2. **Binary Search:** Searching in a sorted(by ascending order) list. **Time: log n**"
      ],
      "metadata": {
        "id": "5NYn_k1Yrx9s"
      }
    },
    {
      "cell_type": "code",
      "source": [
        "import random #import random library\n",
        "\n",
        "def binarysearch(v,l): #define a function named binarysearch with arguments v and l\n",
        "  if l == []: #if list l is empty return False\n",
        "    return False\n",
        "  \n",
        "  m = len(l) // 2  #half the length of list \n",
        "\n",
        "  if v == l[m]: #if mid element is same as v return True\n",
        "    return True\n",
        "  \n",
        "  elif v < l[m]: #if v is smaller thn midpoint elment then call binarysearch again with arguments (v, l[:m]) \n",
        "    return (binarysearch(v, l[:m]))\n",
        "  else:\n",
        "    return (binarysearch(v, l[m+1:]))#otherwise call binarysearch woth the arguments (v, l[m+1:])\n",
        "\n",
        "\n",
        "# l = random.sample(range(1, 1000), 100)\n",
        "# n = int(input())\n",
        "# print(binarysearch(n,list))\n",
        "\n",
        "l = [1,2,3,4,5,6,7,8,9,10]\n",
        "print(binarysearch(6,l))\n",
        "\n",
        "  "
      ],
      "metadata": {
        "colab": {
          "base_uri": "https://localhost:8080/"
        },
        "id": "3g_379wOrzTB",
        "outputId": "43aae549-3848-48d7-fa0d-3773dd0965e2"
      },
      "execution_count": null,
      "outputs": [
        {
          "output_type": "stream",
          "name": "stdout",
          "text": [
            "True\n"
          ]
        }
      ]
    },
    {
      "cell_type": "markdown",
      "source": [
        "Q3. **Selection Sort** Sorting a given list. **Time: O(n)**"
      ],
      "metadata": {
        "id": "nH_e3qSePmNT"
      }
    },
    {
      "cell_type": "code",
      "source": [
        "import random\n",
        "def SelectionSort(l):\n",
        "  n = len(l)\n",
        "  print(n)\n",
        "#if list is empty return without any modification\n",
        "  if len(l) < 1:\n",
        "    return l\n",
        "#otherwise create a loop and pick an element \n",
        "  for i in range(n):\n",
        "#lets suppose l[i] is the minimum element in the list\n",
        "    mpos = i\n",
        "    #and compare with each element in list \n",
        "    for j in range(i+1, n):\n",
        "      #if any other element is lesser then the l[mpos] element then substitue mpos = j\n",
        "      if l[j] < l[mpos]:\n",
        "        mpos = j\n",
        "    #swap the \n",
        "    (l[i], l[mpos]) = (l[mpos], l[i])\n",
        "\n",
        "  return (l)\n",
        "\n",
        "list = random.sample(range(1,1000),100)\n",
        "print(SelectionSort(list))\n",
        "\n",
        "      "
      ],
      "metadata": {
        "colab": {
          "base_uri": "https://localhost:8080/"
        },
        "id": "zohlZPqbP08k",
        "outputId": "8ff20ce1-701c-4f9a-f875-88a99b27bb0f"
      },
      "execution_count": 6,
      "outputs": [
        {
          "output_type": "stream",
          "name": "stdout",
          "text": [
            "100\n",
            "[2, 4, 12, 22, 24, 39, 42, 44, 51, 63, 78, 86, 92, 98, 106, 143, 144, 167, 179, 192, 193, 194, 196, 212, 223, 230, 234, 266, 285, 291, 294, 329, 352, 355, 367, 388, 393, 402, 403, 426, 449, 452, 454, 458, 463, 468, 472, 499, 503, 523, 535, 541, 573, 574, 580, 581, 585, 593, 607, 618, 629, 633, 651, 680, 689, 695, 697, 707, 708, 720, 726, 748, 751, 753, 756, 765, 770, 783, 786, 802, 822, 836, 840, 842, 844, 846, 866, 868, 886, 921, 923, 924, 955, 958, 964, 969, 972, 974, 984, 995]\n"
          ]
        }
      ]
    }
  ]
}